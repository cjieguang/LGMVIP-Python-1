{
 "cells": [
  {
   "cell_type": "code",
   "execution_count": 40,
   "metadata": {},
   "outputs": [],
   "source": [
    "# GIF Creator from Images using MoviePy"
   ]
  },
  {
   "cell_type": "code",
   "execution_count": 41,
   "metadata": {},
   "outputs": [],
   "source": [
    "# Library Imports\n",
    "import moviepy.editor as mpy\n",
    "import glob"
   ]
  },
  {
   "cell_type": "code",
   "execution_count": 43,
   "metadata": {},
   "outputs": [
    {
     "name": "stdout",
     "output_type": "stream",
     "text": [
      "Welcome to Jie Guang's Gif Creator would you like to:\n",
      "1.\tCreate a GIF?\n",
      "2\tQuit\n",
      "Copy your images that you want to convert into the 'Images' Folder. Ensure they are named in order!\n",
      "1. I'm done!\n",
      "2. Back\n",
      "What do you want to name your GIF?\n",
      "MoviePy - Building file Pedro.gif with imageio.\n"
     ]
    },
    {
     "name": "stderr",
     "output_type": "stream",
     "text": [
      "                                                            \r"
     ]
    },
    {
     "name": "stdout",
     "output_type": "stream",
     "text": [
      "GIF Successfully Exported!\n",
      "\n",
      "\n",
      "Thank you for using Jie Guang's GIF Creator.\n",
      "Moviepy - Building video __temp__.mp4.\n",
      "Moviepy - Writing video __temp__.mp4\n",
      "\n"
     ]
    },
    {
     "name": "stderr",
     "output_type": "stream",
     "text": [
      "                                                             \r"
     ]
    },
    {
     "name": "stdout",
     "output_type": "stream",
     "text": [
      "Moviepy - Done !\n",
      "Moviepy - video ready __temp__.mp4\n"
     ]
    }
   ],
   "source": [
    "# User Interface\n",
    "while True:\n",
    "    print(\"Welcome to Jie Guang's Gif Creator would you like to:\\n1.\\tCreate a GIF?\\n2\\tQuit\")\n",
    "    userInp = input(\"Choice:\")\n",
    "    if userInp == \"1\":\n",
    "        # Prompt user to copy images into the Images folder\n",
    "        print(\"Copy your images that you want to convert into the 'Images' Folder. Ensure they are named in order!\")\n",
    "        print(\"1. I'm done!\\n2. Back\")\n",
    "        userInp = input(\"\")\n",
    "        if userInp == \"1\":\n",
    "            # Prompt user to upload images into \"Images\" Folder\n",
    "            img_list = glob.glob(glob.escape(\"Images/\") + \"/*.jpg\")\n",
    "            full_clip = mpy.ImageSequenceClip(img_list, fps = 20)\n",
    "            print(\"What do you want to name your GIF?\")\n",
    "            gifName = input(\"\") + \".gif\"\n",
    "            full_clip.write_gif(gifName)\n",
    "            print(\"GIF Successfully Exported!\\n\\n\")\n",
    "            print(\"Thank you for using Jie Guang's GIF Creator.\")\n",
    "            gif = mpy.VideoFileClip(gifName)\n",
    "            gif.ipython_display()\n",
    "            break\n",
    "        else:\n",
    "            continue\n",
    "    else:\n",
    "        print(\"Thank you for using Jie Guang's GIF Creator.\")\n",
    "        break\n"
   ]
  }
 ],
 "metadata": {
  "kernelspec": {
   "display_name": "Python 3",
   "language": "python",
   "name": "python3"
  },
  "language_info": {
   "codemirror_mode": {
    "name": "ipython",
    "version": 3
   },
   "file_extension": ".py",
   "mimetype": "text/x-python",
   "name": "python",
   "nbconvert_exporter": "python",
   "pygments_lexer": "ipython3",
   "version": "3.11.0"
  }
 },
 "nbformat": 4,
 "nbformat_minor": 2
}
